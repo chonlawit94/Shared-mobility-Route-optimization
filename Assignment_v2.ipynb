{
 "cells": [
  {
   "cell_type": "code",
   "execution_count": 2,
   "metadata": {},
   "outputs": [],
   "source": [
    "import numpy as np\n",
    "import pandas as pd\n",
    "from sqlalchemy import create_engine\n",
    "import networkx as nx\n",
    "from datetime import datetime\n",
    "\n",
    "# T=pd.read_csv('rtv_50veh_first-run.csv')\n",
    "\n",
    "def rtv_data_prep(trip_size,fleet_size,seed_yes,disk_engine):\n",
    "    \n",
    "    T = pd.read_sql_query('SELECT *' 'FROM data' , disk_engine)\n",
    "    T = T.loc[T['size']<=trip_size]\n",
    "#import requests and vehicle locations\n",
    "    man_veh = pd.read_csv('Manhattan_dropoff_14_80000-80030.csv',index_col='index')\n",
    "    seed = [99999,22842,42034,73027,38470,23843,59173,38533,10238,83799]\n",
    "    if seed_yes>0:\n",
    "        seed_value = seed[seed_yes-1]\n",
    "        man_veh_50 = man_veh.sample(frac=fleet_size,random_state=seed_value)\n",
    "        T = T.loc[T['veh_index'].isin(man_veh_50.index)]\n",
    "    return(T)\n"
   ]
  },
  {
   "cell_type": "code",
   "execution_count": 20,
   "metadata": {},
   "outputs": [],
   "source": [
    "def assign_data_prep(T):\n",
    "    veh_rtv_filtered = T['veh_index'].unique().tolist()\n",
    "    trip_rtv_filtered_str = T['request_index'].unique().tolist()\n",
    "    trip_rtv_filtered = [int(x) for x in trip_rtv_filtered_str]\n",
    "    unique_values_req =  pd.unique(T.loc[:,['r1','r2','r3','r4']].values.ravel()).tolist()\n",
    "    unique_values_req = [int(x) for x in unique_values_req if (str(x) != 'nan' and x != None)]\n",
    "    unique_values_req.sort()\n",
    "    num_vehicles = len(veh_rtv_filtered) #vehicle\n",
    "    return(veh_rtv_filtered,trip_rtv_filtered_str,trip_rtv_filtered,unique_values_req,num_vehicles)"
   ]
  },
  {
   "cell_type": "code",
   "execution_count": 4,
   "metadata": {},
   "outputs": [],
   "source": [
    "def create_rtv_graph(unique_values_req,trip_rtv_filtered_str,T):\n",
    "    RT_graph = nx.MultiGraph()\n",
    "    for req in unique_values_req:\n",
    "#     index_req = unique_values_req.index(req)\n",
    "        RT_graph.add_node(req)\n",
    "    for trip in trip_rtv_filtered_str:\n",
    "#     index_trip = trip_rtv_filtered_str.index(trip)\n",
    "        RT_graph.add_node(trip)\n",
    "        trip_request_link = pd.unique(T.loc[T['request_index']==trip,['r1','r2','r3','r4']].values.ravel()).tolist()\n",
    "        for trip_req in trip_request_link:\n",
    "            if str(trip_req)!= 'nan':\n",
    "#             index_req = unique_values_req.index(trip_req)\n",
    "                RT_graph.add_edge(trip_req,trip)\n",
    "    return(RT_graph)"
   ]
  },
  {
   "cell_type": "code",
   "execution_count": 5,
   "metadata": {},
   "outputs": [],
   "source": [
    "def create_cost_matrix(num_vehicles,trip_rtv_filtered_str,T,penalty_constant,veh_rtv_filtered,unique_values_req):\n",
    "    cost = np.empty((0,num_vehicles+1))\n",
    "    for trip in trip_rtv_filtered_str:\n",
    "        cost_sub = []\n",
    "        for vehicle in veh_rtv_filtered:\n",
    "            vehicle_trips = T.loc[T['veh_index']==vehicle]\n",
    "            if trip in vehicle_trips['request_index'].values:\n",
    "                delay = vehicle_trips.loc[vehicle_trips['request_index']==trip].delay.values[0]\n",
    "            else:\n",
    "                delay = 0\n",
    "            cost_sub.append(delay)\n",
    "        #add trip cost of the dummy vehicle in the last column\n",
    "        cost_sub.append(0)\n",
    "\n",
    "    #     cost.append(cost_sub)\n",
    "        cost = np.append(cost,[cost_sub],axis=0)\n",
    "\n",
    "    #Add cost of rejecting request\n",
    "    cost_reject = []\n",
    "    for veh in veh_rtv_filtered:\n",
    "        cost_reject.append(0)\n",
    "    cost_reject.append(penalty_constant)\n",
    "    for request in unique_values_req:\n",
    "        cost = np.append(cost,[cost_reject],axis=0)\n",
    "    return(cost)"
   ]
  },
  {
   "cell_type": "code",
   "execution_count": 6,
   "metadata": {},
   "outputs": [],
   "source": [
    "from ortools.linear_solver import pywraplp\n",
    "# Create the mip solver with gurobi\n",
    "def create_solver():\n",
    "    solver = pywraplp.Solver('SolveIntegerProblem',\n",
    "                               pywraplp.Solver.GUROBI_MIXED_INTEGER_PROGRAMMING)\n",
    "    return(solver)"
   ]
  },
  {
   "cell_type": "markdown",
   "metadata": {},
   "source": [
    "count_obj = 0\n",
    "num_trips = len(trip_rtv_filtered) #trip\n",
    "\n",
    "# x[i, j] is an array of 0-1 variables, which will be 1\n",
    "# if trip i is assigned to vehicle j.\n",
    "x = np.empty((num_trips+len(unique_values_req),num_vehicles+1),dtype=object)\n",
    "for i in range(num_trips):\n",
    "    for j in range(num_vehicles):\n",
    "        if T.loc[T['request_index']==trip_rtv_filtered_str[i]].veh_index.values[0] == veh_rtv_filtered[j]:\n",
    "            x[i, j] = solver.IntVar(0, 1, '')\n",
    "            count_obj+=1\n",
    "        else:\n",
    "            x[i, j] = 0\n",
    "    #add dummy vehicle at the last column\n",
    "    x[i,num_vehicles] = 0\n",
    "# add rejected trip for each request at the last rows\n",
    "for i in range(len(unique_values_req)):\n",
    "    for j in range(num_vehicles):\n",
    "        x[num_trips+i,j] = 0\n",
    "    # add binary variable for the rejected trip, which allow it to be paired only with the dummy vehicle \n",
    "    x[num_trips+i,num_vehicles] = solver.IntVar(0, 1, '')\n",
    "    count_obj+=1"
   ]
  },
  {
   "cell_type": "code",
   "execution_count": 7,
   "metadata": {},
   "outputs": [],
   "source": [
    "def create_x_matrix(trip_rtv_filtered,cost,solver):    \n",
    "    num_trips = len(trip_rtv_filtered) #trip\n",
    "    x = np.empty((cost.shape[0],cost.shape[1]),dtype=object)\n",
    "    for i in range(cost.shape[0]):\n",
    "        for j in range(cost.shape[1]):\n",
    "            if cost[i,j]>0:\n",
    "                x[i,j] = solver.IntVar(0, 1, '')\n",
    "            else:\n",
    "                x[i,j] = 0\n",
    "    return(x,num_trips)"
   ]
  },
  {
   "cell_type": "code",
   "execution_count": 8,
   "metadata": {},
   "outputs": [],
   "source": [
    "def create_req_matrix(unique_values_req,num_trips,RT_graph,trip_rtv_filtered_str,num_vehicles,cost,x):    \n",
    "    num_req = len(unique_values_req)\n",
    "    r = np.empty((num_req,num_trips+num_req),dtype=object)\n",
    "    for i in range(num_req):\n",
    "        trip_index_all = []\n",
    "        #get all edges connecting to a request and append to a list\n",
    "        for edge in RT_graph.edges(unique_values_req[i]):\n",
    "            trip_index = trip_rtv_filtered_str.index(edge[1])\n",
    "            trip_index_all.append(trip_index)\n",
    "        for j in range(num_trips):\n",
    "            if j in trip_index_all:\n",
    "                trip_req = []\n",
    "                for n in range(num_vehicles+1):\n",
    "                    if cost[j,n]>0:\n",
    "                        trip_req.append(n)\n",
    "                r[i, j] = sum([x[j, k] for k in trip_req])\n",
    "            else:\n",
    "                r[i, j] = 0\n",
    "    for i in range(num_req):\n",
    "        for j in range(num_req):\n",
    "            if i==j:\n",
    "                r[i,num_trips+j] = x[num_trips+i, num_vehicles] \n",
    "            else:\n",
    "                r[i,num_trips+j] = 0\n",
    "    return(r,num_req)"
   ]
  },
  {
   "cell_type": "markdown",
   "metadata": {},
   "source": [
    "num_req = len(unique_values_req)\n",
    "r = np.empty((num_req,num_trips+num_req),dtype=object)\n",
    "\n",
    "for i in range(num_req):\n",
    "    req_index = unique_values_req[i]\n",
    "    for j in range(num_trips):\n",
    "        trip_index = trip_rtv_filtered_str[j]\n",
    "        request_list = pd.unique(T.loc[T['request_index']==trip_index,['r1','r2','r3','r4']].values.ravel())\n",
    "        if req_index in request_list:\n",
    "            trip_req = []\n",
    "            for n in range(num_vehicles+1):\n",
    "                if cost[j,n]>0:\n",
    "                    trip_req.append(n)\n",
    "            r[i, j] = sum([x[j, k] for k in trip_req])\n",
    "            count_obj+=1\n",
    "        else:\n",
    "            r[i, j] = 0\n",
    "    #add rejected trip\n",
    "#     r[i,num_trips] = sum([x[num_trips+i, k] for k in range(num_vehicles+1)])\n",
    "    \n",
    "for i in range(num_req):\n",
    "    for j in range(num_req):\n",
    "        if i==j:\n",
    "            r[i,num_trips+j] = x[num_trips+i, num_vehicles] \n",
    "        else:\n",
    "            r[i,num_trips+j] = 0"
   ]
  },
  {
   "cell_type": "code",
   "execution_count": 9,
   "metadata": {},
   "outputs": [],
   "source": [
    "def define_constraints(x,num_req,num_trips,num_vehicles,penalty_constant,cost,unique_values_req,solver,r):\n",
    "    # Each trip is assigned to at most 1 vehicle. \n",
    "    for i in range(x.shape[0]):\n",
    "        solver.Add(solver.Sum([x[i, j] for j in range(x.shape[1])]) <= 1)\n",
    "\n",
    "    # Each vehicle is assigned to at most one trip. \n",
    "    for j in range(x.shape[1]-1):\n",
    "        solver.Add(solver.Sum([x[i, j] for i in range(x.shape[0])]) <= 1)\n",
    "\n",
    "    # Each request is assigned to exactly 1 trip (including rejected trip).\n",
    "    for i in range(num_req):\n",
    "        solver.Add(solver.Sum([r[i, j] for j in range(r.shape[1])]) == 1)\n",
    "\n",
    "    objective_terms = []\n",
    "    #add cost of each trip \n",
    "    for i in range(num_trips):\n",
    "        for j in range(num_vehicles):\n",
    "            if cost[i,j]>0 and cost[i,j]<penalty_constant:\n",
    "                objective_terms.append(cost[i,j] * x[i, j])\n",
    "    #add cost of rejection \n",
    "    for i in range(len(unique_values_req)):\n",
    "        objective_terms.append(cost[num_trips+i][num_vehicles] * x[num_trips+i,num_vehicles])\n",
    "    return(objective_terms)"
   ]
  },
  {
   "cell_type": "code",
   "execution_count": 10,
   "metadata": {},
   "outputs": [],
   "source": [
    "def solve_mip(objective_terms,solver):\n",
    "    solver.Minimize(solver.Sum(objective_terms))\n",
    "    status = solver.Solve()\n",
    "    return(status)"
   ]
  },
  {
   "cell_type": "code",
   "execution_count": 11,
   "metadata": {},
   "outputs": [],
   "source": [
    "def print_solution(seed_no,solver,Assignment_ILP,status,num_trips,num_req,num_vehicles,x,trip_rtv_filtered_str,veh_rtv_filtered,cost,unique_values_req):\n",
    "    if status == pywraplp.Solver.OPTIMAL or status == pywraplp.Solver.FEASIBLE:\n",
    "        print('Total Delay = ', solver.Objective().Value(),' Seed no.= ',seed_no)\n",
    "        for i in range(num_trips + num_req):\n",
    "            for j in range(num_vehicles):\n",
    "                if not isinstance(x[i, j],int):\n",
    "                    if x[i,j].solution_value() > 0.2:\n",
    "#                         print('Trip %d assigned to vehicle %d.  Delay = %d' %\n",
    "#                               (i, j, cost[i][j]))\n",
    "                        Assignment_ILP = Assignment_ILP.append({'trip':trip_rtv_filtered_str[i],'vehicle':veh_rtv_filtered[j],'delay':cost[i][j],'solution_val':x[i, j].solution_value(),'seed_no':seed_no},ignore_index=True)\n",
    "            if not isinstance(x[i, j+1],int) and x[i,j+1].solution_value() > 0.2:\n",
    "#                 print('Trip %d assigned to vehicle %d.  Delay = %d' %\n",
    "#                               (i, j+1, cost[i][j+1]))\n",
    "                Assignment_ILP = Assignment_ILP.append({'trip':unique_values_req[i-num_trips],'vehicle':'rejected','delay':cost[i][j+1],'solution_val':x[i, j+1].solution_value(),'seed_no':seed_no},ignore_index=True)\n",
    "    return(Assignment_ILP)"
   ]
  },
  {
   "cell_type": "code",
   "execution_count": 12,
   "metadata": {},
   "outputs": [],
   "source": [
    "def execute_all(trip_size,fleet_size,disk_engine,penalty_constant):\n",
    "    print('Trip size = ',trip_size,' Fleet size = ', fleet_size*100,'%')\n",
    "    Assignment_ILP = pd.DataFrame()\n",
    "    if fleet_size < 1:\n",
    "        for i in range(10):\n",
    "            T = rtv_data_prep(trip_size,fleet_size,i+1,disk_engine)\n",
    "            veh_rtv_filtered,trip_rtv_filtered_str,trip_rtv_filtered,unique_values_req,num_vehicles = assign_data_prep(T)\n",
    "            RT_graph = create_rtv_graph(unique_values_req,trip_rtv_filtered_str,T)\n",
    "            cost = create_cost_matrix(num_vehicles,trip_rtv_filtered_str,T,penalty_constant,veh_rtv_filtered,unique_values_req)\n",
    "            solver = create_solver()\n",
    "            x,num_trips = create_x_matrix(trip_rtv_filtered,cost,solver)\n",
    "            r,num_req = create_req_matrix(unique_values_req,num_trips,RT_graph,trip_rtv_filtered_str,num_vehicles,cost,x)\n",
    "            objective_terms = define_constraints(x,num_req,num_trips,num_vehicles,penalty_constant,cost,unique_values_req,solver,r)\n",
    "            status = solve_mip(objective_terms,solver)\n",
    "            Assignment_ILP = print_solution(i+1,solver,Assignment_ILP,status,num_trips,num_req,num_vehicles,x,trip_rtv_filtered_str,veh_rtv_filtered,cost,unique_values_req)\n",
    "    else:\n",
    "        T = rtv_data_prep(trip_size,fleet_size,0,disk_engine)\n",
    "        veh_rtv_filtered,trip_rtv_filtered_str,trip_rtv_filtered,unique_values_req,num_vehicles = assign_data_prep(T)\n",
    "        RT_graph = create_rtv_graph(unique_values_req,trip_rtv_filtered_str,T)\n",
    "        cost = create_cost_matrix(num_vehicles,trip_rtv_filtered_str,T,penalty_constant,veh_rtv_filtered,unique_values_req)\n",
    "        solver = create_solver()\n",
    "        x,num_trips = create_x_matrix(trip_rtv_filtered,cost,solver)\n",
    "        r,num_req = create_req_matrix(unique_values_req,num_trips,RT_graph,trip_rtv_filtered_str,num_vehicles,cost,x)\n",
    "        objective_terms = define_constraints(x,num_req,num_trips,num_vehicles,penalty_constant,cost,unique_values_req,solver,r)\n",
    "        status = solve_mip(objective_terms,solver)\n",
    "        Assignment_ILP = print_solution(0,solver,Assignment_ILP,status,num_trips,num_req,num_vehicles,x,trip_rtv_filtered_str,veh_rtv_filtered,cost,unique_values_req)\n",
    "\n",
    "    return(Assignment_ILP)"
   ]
  },
  {
   "cell_type": "code",
   "execution_count": 21,
   "metadata": {},
   "outputs": [
    {
     "name": "stdout",
     "output_type": "stream",
     "text": [
      "3   5   0.25   1\n",
      "Trip size =  1  Fleet size =  25.0 %\n",
      "Total Delay =  1210002043.0  Seed no.=  1\n",
      "Total Delay =  1170002201.0  Seed no.=  2\n",
      "Total Delay =  1260002261.0  Seed no.=  3\n",
      "Total Delay =  1260001976.0  Seed no.=  4\n",
      "Total Delay =  1350002038.0  Seed no.=  5\n",
      "Total Delay =  1220002206.0  Seed no.=  6\n",
      "Total Delay =  1090002778.0  Seed no.=  7\n",
      "Total Delay =  1200002537.0  Seed no.=  8\n",
      "Total Delay =  1210002038.0  Seed no.=  9\n",
      "Total Delay =  1220001806.0  Seed no.=  10\n",
      "0:00:03.344126\n",
      "3   5   0.5   1\n",
      "Trip size =  1  Fleet size =  50.0 %\n",
      "Total Delay =  870004651.0  Seed no.=  1\n",
      "Total Delay =  860005328.0  Seed no.=  2\n",
      "Total Delay =  920005529.0  Seed no.=  3\n",
      "Total Delay =  890004606.0  Seed no.=  4\n",
      "Total Delay =  960005215.0  Seed no.=  5\n",
      "Total Delay =  940005289.0  Seed no.=  6\n",
      "Total Delay =  870005185.0  Seed no.=  7\n",
      "Total Delay =  870005164.0  Seed no.=  8\n",
      "Total Delay =  970004718.0  Seed no.=  9\n",
      "Total Delay =  950005590.0  Seed no.=  10\n",
      "0:00:06.220549\n",
      "3   5   0.75   1\n",
      "Trip size =  1  Fleet size =  75.0 %\n",
      "Total Delay =  480008488.0  Seed no.=  1\n",
      "Total Delay =  570009461.0  Seed no.=  2\n",
      "Total Delay =  580008801.0  Seed no.=  3\n",
      "Total Delay =  570009197.0  Seed no.=  4\n",
      "Total Delay =  600007875.0  Seed no.=  5\n",
      "Total Delay =  580009120.0  Seed no.=  6\n",
      "Total Delay =  580008646.0  Seed no.=  7\n",
      "Total Delay =  500009197.0  Seed no.=  8\n",
      "Total Delay =  580008520.0  Seed no.=  9\n",
      "Total Delay =  560009763.0  Seed no.=  10\n",
      "0:00:09.098884\n",
      "3   5   1   1\n",
      "Trip size =  1  Fleet size =  100 %\n",
      "Total Delay =  200015960.0  Seed no.=  0\n",
      "0:00:11.969332\n",
      "3   5   0.25   2\n",
      "Trip size =  2  Fleet size =  25.0 %\n",
      "Total Delay =  800009507.0  Seed no.=  1\n",
      "Total Delay =  770010322.0  Seed no.=  2\n",
      "Total Delay =  870010220.0  Seed no.=  3\n",
      "Total Delay =  850009912.0  Seed no.=  4\n",
      "Total Delay =  960009682.0  Seed no.=  5\n",
      "Total Delay =  850009772.0  Seed no.=  6\n",
      "Total Delay =  750009938.0  Seed no.=  7\n",
      "Total Delay =  820010720.0  Seed no.=  8\n",
      "Total Delay =  850008684.0  Seed no.=  9\n",
      "Total Delay =  810009975.0  Seed no.=  10\n",
      "0:00:09.304528\n",
      "3   5   0.5   2\n",
      "Trip size =  2  Fleet size =  50.0 %\n",
      "Total Delay =  200020978.0  Seed no.=  1\n",
      "Total Delay =  260020916.0  Seed no.=  2\n",
      "Total Delay =  270022615.0  Seed no.=  3\n",
      "Total Delay =  230021426.0  Seed no.=  4\n",
      "Total Delay =  310022021.0  Seed no.=  5\n",
      "Total Delay =  280022220.0  Seed no.=  6\n",
      "Total Delay =  240020392.0  Seed no.=  7\n",
      "Total Delay =  210021767.0  Seed no.=  8\n",
      "Total Delay =  350020442.0  Seed no.=  9\n",
      "Total Delay =  350020965.0  Seed no.=  10\n",
      "0:00:23.696447\n",
      "3   5   0.75   2\n",
      "Trip size =  2  Fleet size =  75.0 %\n",
      "Total Delay =  30018316.0  Seed no.=  1\n",
      "Total Delay =  130020291.0  Seed no.=  2\n",
      "Total Delay =  70021676.0  Seed no.=  3\n",
      "Total Delay =  70021688.0  Seed no.=  4\n",
      "Total Delay =  70019593.0  Seed no.=  5\n",
      "Total Delay =  90020488.0  Seed no.=  6\n",
      "Total Delay =  60021962.0  Seed no.=  7\n",
      "Total Delay =  30020209.0  Seed no.=  8\n",
      "Total Delay =  100019677.0  Seed no.=  9\n",
      "Total Delay =  100021503.0  Seed no.=  10\n",
      "0:00:36.959224\n",
      "3   5   1   2\n",
      "Trip size =  2  Fleet size =  100 %\n",
      "Total Delay =  50015471.0  Seed no.=  0\n",
      "0:00:51.755703\n",
      "3   5   0.25   4\n",
      "Trip size =  4  Fleet size =  25.0 %\n",
      "Total Delay =  600017930.0  Seed no.=  1\n",
      "Total Delay =  620015881.0  Seed no.=  2\n",
      "Total Delay =  730015706.0  Seed no.=  3\n",
      "Total Delay =  640017240.0  Seed no.=  4\n",
      "Total Delay =  750017110.0  Seed no.=  5\n",
      "Total Delay =  700016309.0  Seed no.=  6\n",
      "Total Delay =  620014686.0  Seed no.=  7\n",
      "Total Delay =  700015098.0  Seed no.=  8\n",
      "Total Delay =  660015498.0  Seed no.=  9\n",
      "Total Delay =  630016387.0  Seed no.=  10\n",
      "0:00:13.641985\n",
      "3   5   0.5   4\n",
      "Trip size =  4  Fleet size =  50.0 %\n",
      "Total Delay =  90023202.0  Seed no.=  1\n",
      "Total Delay =  150024227.0  Seed no.=  2\n",
      "Total Delay =  160024208.0  Seed no.=  3\n",
      "Total Delay =  120024324.0  Seed no.=  4\n",
      "Total Delay =  160025577.0  Seed no.=  5\n",
      "Total Delay =  160025842.0  Seed no.=  6\n",
      "Total Delay =  100026521.0  Seed no.=  7\n",
      "Total Delay =  90026591.0  Seed no.=  8\n",
      "Total Delay =  250022461.0  Seed no.=  9\n",
      "Total Delay =  210026423.0  Seed no.=  10\n",
      "0:00:36.372942\n",
      "3   5   0.75   4\n",
      "Trip size =  4  Fleet size =  75.0 %\n",
      "Total Delay =  20017937.0  Seed no.=  1\n",
      "Total Delay =  100021289.0  Seed no.=  2\n",
      "Total Delay =  50021311.0  Seed no.=  3\n",
      "Total Delay =  50021448.0  Seed no.=  4\n",
      "Total Delay =  60019016.0  Seed no.=  5\n",
      "Total Delay =  80019604.0  Seed no.=  6\n",
      "Total Delay =  50021348.0  Seed no.=  7\n",
      "Total Delay =  30018756.0  Seed no.=  8\n",
      "Total Delay =  60019561.0  Seed no.=  9\n",
      "Total Delay =  90019755.0  Seed no.=  10\n",
      "0:00:58.700437\n",
      "3   5   1   4\n",
      "Trip size =  4  Fleet size =  100 %\n",
      "Total Delay =  40015336.0  Seed no.=  0\n",
      "0:01:21.216551\n"
     ]
    }
   ],
   "source": [
    "import os\n",
    "penalty_constant = 10000000\n",
    "path = \"C:\\\\Users\\\\Chonlavit\\\\OneDrive\\\\2019-Leeds Doc\\\\TRAN5911_disser\\\\Gurobi\\\\Shared-mobility-Route-optimization\\\\ILP_results_v2\\\\\"\n",
    "disk_engine = create_engine('sqlite:///T_wait-3_delay-5_v2.db')\n",
    "for trip_size in [1,2,4]:\n",
    "    for fleet_size in [0.25,0.5,0.75,1]:\n",
    "        waiting_t = 3\n",
    "        dropoff_t = 5\n",
    "        now1 = datetime.now()\n",
    "        print(waiting_t,\" \",dropoff_t,\" \",fleet_size,\" \",trip_size)\n",
    "        result_ilp_df = execute_all(trip_size,fleet_size,disk_engine,penalty_constant)\n",
    "        result_ilp_df['trip_size'] = trip_size\n",
    "        result_ilp_df['fleet_size'] = fleet_size*100\n",
    "        result_ilp_df['waiting_t_constr'] = waiting_t\n",
    "        result_ilp_df['dropoff_t_constr'] = dropoff_t\n",
    "        name_f = 'ass_veh-'+str(fleet_size*100)+ '_wait-' + str(waiting_t) + '_delay-'+ str(dropoff_t) + '_capa-'+ str(trip_size) +'.csv' \n",
    "        result_ilp_df.to_csv(os.path.join(path,name_f))\n",
    "        now2 = datetime.now()\n",
    "        if fleet_size<1:\n",
    "            print((now2-now1)/10)\n",
    "        else:\n",
    "            print(now2-now1)"
   ]
  },
  {
   "cell_type": "code",
   "execution_count": 22,
   "metadata": {},
   "outputs": [
    {
     "name": "stdout",
     "output_type": "stream",
     "text": [
      "Trip size =  4  Fleet size =  50.0 %\n",
      "Total Delay =  3034001.0  Seed no.=  1\n",
      "Total Delay =  5029891.0  Seed no.=  2\n",
      "Total Delay =  6030773.0  Seed no.=  3\n",
      "Total Delay =  1028627.0  Seed no.=  4\n",
      "Total Delay =  6029238.0  Seed no.=  5\n",
      "Total Delay =  5031322.0  Seed no.=  6\n",
      "Total Delay =  28498.0  Seed no.=  7\n",
      "Total Delay =  2028318.0  Seed no.=  8\n",
      "Total Delay =  6034058.0  Seed no.=  9\n",
      "Total Delay =  12029724.0  Seed no.=  10\n",
      "0:51:11.094048\n"
     ]
    }
   ],
   "source": [
    "now1 = datetime.now()\n",
    "trip_size = 4 #1-4\n",
    "fleet_size = 0.50 #0-1\n",
    "disk_engine = create_engine('sqlite:///T_wait-3_delay-5.db')\n",
    "penalty_constant = 1000000\n",
    "result_ilp_df = execute_all(trip_size,fleet_size,disk_engine,penalty_constant)\n",
    "now2 = datetime.now()\n",
    "print(now2-now1)"
   ]
  },
  {
   "cell_type": "code",
   "execution_count": 23,
   "metadata": {},
   "outputs": [],
   "source": []
  },
  {
   "cell_type": "code",
   "execution_count": 13,
   "metadata": {},
   "outputs": [
    {
     "name": "stdout",
     "output_type": "stream",
     "text": [
      "Trip size =  2  Fleet size =  25.0 %\n",
      "Total Delay =  770009916.0  Seed no.=  1\n",
      "Total Delay =  730010905.0  Seed no.=  2\n",
      "Total Delay =  750010038.0  Seed no.=  3\n",
      "Total Delay =  800009577.0  Seed no.=  4\n",
      "Total Delay =  930009329.0  Seed no.=  5\n",
      "Total Delay =  790010418.0  Seed no.=  6\n",
      "Total Delay =  690011666.0  Seed no.=  7\n",
      "Total Delay =  760011525.0  Seed no.=  8\n",
      "Total Delay =  780008883.0  Seed no.=  9\n",
      "Total Delay =  800009716.0  Seed no.=  10\n"
     ]
    }
   ],
   "source": [
    "trip_size = 2 #1-4\n",
    "fleet_size = 0.25 #0-1\n",
    "disk_engine = create_engine('sqlite:///T_wait-3_delay-5.db')\n",
    "penalty_constant = 10000000\n",
    "result_ilp_df = execute_all(trip_size,fleet_size,disk_engine,penalty_constant)\n",
    "import os\n",
    "path = \"C:\\\\Users\\\\Chonlavit\\\\OneDrive\\\\2019-Leeds Doc\\\\TRAN5911_disser\\\\Gurobi\\\\Shared-mobility-Route-optimization\\\\ILP_results\\\\\"\n",
    "\n",
    "result_ilp_df.to_csv(os.path.join(path,r'ass_veh-25_wait-3_delay-5_capa-2.csv'))"
   ]
  },
  {
   "cell_type": "code",
   "execution_count": null,
   "metadata": {},
   "outputs": [],
   "source": [
    "import multiprocessing"
   ]
  },
  {
   "cell_type": "code",
   "execution_count": null,
   "metadata": {},
   "outputs": [],
   "source": [
    "T.rename(columns={'size':'trip_size'}, inplace=True)\n",
    "Assignment_ILP_norej =  Assignment_ILP.loc[Assignment_ILP['vehicle']!='rejected']\n",
    "for index,row in Assignment_ILP_norej.iterrows():\n",
    "    Assignment_ILP_norej.loc[index,'r1'] = T.loc[T['request_index']==row['trip']].r1.values[0]\n",
    "    Assignment_ILP_norej.loc[index,'r2'] = T.loc[T['request_index']==row['trip']].r2.values[0]\n",
    "    Assignment_ILP_norej.loc[index,'r3'] = T.loc[T['request_index']==row['trip']].r3.values[0]\n",
    "    Assignment_ILP_norej.loc[index,'r4'] = T.loc[T['request_index']==row['trip']].r4.values[0]\n",
    "    Assignment_ILP_norej.loc[index,'size'] = T.loc[T['request_index']==row['trip']].trip_size.values[0]"
   ]
  },
  {
   "cell_type": "code",
   "execution_count": null,
   "metadata": {},
   "outputs": [],
   "source": [
    "Assignment_ILP_norej =  Assignment_ILP.loc[Assignment_ILP['vehicle']!='rejected']\n",
    "T_assigned = T.loc[T['request_index'].isin(Assignment_ILP_norej['trip'].values.tolist())]"
   ]
  },
  {
   "cell_type": "code",
   "execution_count": null,
   "metadata": {},
   "outputs": [],
   "source": [
    "T_assigned['size'].sum()"
   ]
  },
  {
   "cell_type": "code",
   "execution_count": 53,
   "metadata": {},
   "outputs": [
    {
     "data": {
      "text/html": [
       "<div>\n",
       "<style scoped>\n",
       "    .dataframe tbody tr th:only-of-type {\n",
       "        vertical-align: middle;\n",
       "    }\n",
       "\n",
       "    .dataframe tbody tr th {\n",
       "        vertical-align: top;\n",
       "    }\n",
       "\n",
       "    .dataframe thead th {\n",
       "        text-align: right;\n",
       "    }\n",
       "</style>\n",
       "<table border=\"1\" class=\"dataframe\">\n",
       "  <thead>\n",
       "    <tr style=\"text-align: right;\">\n",
       "      <th></th>\n",
       "      <th>delay</th>\n",
       "      <th>seed_no</th>\n",
       "      <th>solution_val</th>\n",
       "      <th>trip</th>\n",
       "      <th>vehicle</th>\n",
       "    </tr>\n",
       "  </thead>\n",
       "  <tbody>\n",
       "    <tr>\n",
       "      <th>0</th>\n",
       "      <td>86.0</td>\n",
       "      <td>1.0</td>\n",
       "      <td>1.0</td>\n",
       "      <td>22337</td>\n",
       "      <td>290948</td>\n",
       "    </tr>\n",
       "    <tr>\n",
       "      <th>1</th>\n",
       "      <td>60.0</td>\n",
       "      <td>1.0</td>\n",
       "      <td>1.0</td>\n",
       "      <td>350249</td>\n",
       "      <td>1410</td>\n",
       "    </tr>\n",
       "    <tr>\n",
       "      <th>2</th>\n",
       "      <td>84.0</td>\n",
       "      <td>1.0</td>\n",
       "      <td>1.0</td>\n",
       "      <td>222333</td>\n",
       "      <td>145801</td>\n",
       "    </tr>\n",
       "    <tr>\n",
       "      <th>3</th>\n",
       "      <td>63.0</td>\n",
       "      <td>1.0</td>\n",
       "      <td>1.0</td>\n",
       "      <td>6087</td>\n",
       "      <td>175845</td>\n",
       "    </tr>\n",
       "    <tr>\n",
       "      <th>4</th>\n",
       "      <td>142.0</td>\n",
       "      <td>1.0</td>\n",
       "      <td>1.0</td>\n",
       "      <td>46882</td>\n",
       "      <td>70588</td>\n",
       "    </tr>\n",
       "    <tr>\n",
       "      <th>...</th>\n",
       "      <td>...</td>\n",
       "      <td>...</td>\n",
       "      <td>...</td>\n",
       "      <td>...</td>\n",
       "      <td>...</td>\n",
       "    </tr>\n",
       "    <tr>\n",
       "      <th>1767</th>\n",
       "      <td>10000000.0</td>\n",
       "      <td>10.0</td>\n",
       "      <td>1.0</td>\n",
       "      <td>357506</td>\n",
       "      <td>rejected</td>\n",
       "    </tr>\n",
       "    <tr>\n",
       "      <th>1768</th>\n",
       "      <td>10000000.0</td>\n",
       "      <td>10.0</td>\n",
       "      <td>1.0</td>\n",
       "      <td>360488</td>\n",
       "      <td>rejected</td>\n",
       "    </tr>\n",
       "    <tr>\n",
       "      <th>1769</th>\n",
       "      <td>10000000.0</td>\n",
       "      <td>10.0</td>\n",
       "      <td>1.0</td>\n",
       "      <td>364390</td>\n",
       "      <td>rejected</td>\n",
       "    </tr>\n",
       "    <tr>\n",
       "      <th>1770</th>\n",
       "      <td>10000000.0</td>\n",
       "      <td>10.0</td>\n",
       "      <td>1.0</td>\n",
       "      <td>375402</td>\n",
       "      <td>rejected</td>\n",
       "    </tr>\n",
       "    <tr>\n",
       "      <th>1771</th>\n",
       "      <td>10000000.0</td>\n",
       "      <td>10.0</td>\n",
       "      <td>1.0</td>\n",
       "      <td>379463</td>\n",
       "      <td>rejected</td>\n",
       "    </tr>\n",
       "  </tbody>\n",
       "</table>\n",
       "<p>1772 rows × 5 columns</p>\n",
       "</div>"
      ],
      "text/plain": [
       "           delay  seed_no  solution_val    trip   vehicle\n",
       "0           86.0      1.0           1.0   22337    290948\n",
       "1           60.0      1.0           1.0  350249      1410\n",
       "2           84.0      1.0           1.0  222333    145801\n",
       "3           63.0      1.0           1.0    6087    175845\n",
       "4          142.0      1.0           1.0   46882     70588\n",
       "...          ...      ...           ...     ...       ...\n",
       "1767  10000000.0     10.0           1.0  357506  rejected\n",
       "1768  10000000.0     10.0           1.0  360488  rejected\n",
       "1769  10000000.0     10.0           1.0  364390  rejected\n",
       "1770  10000000.0     10.0           1.0  375402  rejected\n",
       "1771  10000000.0     10.0           1.0  379463  rejected\n",
       "\n",
       "[1772 rows x 5 columns]"
      ]
     },
     "execution_count": 53,
     "metadata": {},
     "output_type": "execute_result"
    }
   ],
   "source": [
    "result_ilp_df"
   ]
  },
  {
   "cell_type": "code",
   "execution_count": 20,
   "metadata": {},
   "outputs": [
    {
     "name": "stdout",
     "output_type": "stream",
     "text": [
      "1\n",
      "339 µs ± 0 ns per loop (mean ± std. dev. of 1 run, 1 loop each)\n"
     ]
    }
   ],
   "source": [
    "%timeit -n1 -r1 print('1') "
   ]
  },
  {
   "cell_type": "code",
   "execution_count": 33,
   "metadata": {},
   "outputs": [],
   "source": [
    "now2 = datetime.now()"
   ]
  },
  {
   "cell_type": "code",
   "execution_count": 34,
   "metadata": {},
   "outputs": [
    {
     "name": "stdout",
     "output_type": "stream",
     "text": [
      "0:00:11.745489\n"
     ]
    }
   ],
   "source": [
    "print(now2-now1)"
   ]
  },
  {
   "cell_type": "code",
   "execution_count": 29,
   "metadata": {},
   "outputs": [
    {
     "ename": "TypeError",
     "evalue": "unsupported operand type(s) for -: 'datetime.time' and 'datetime.time'",
     "output_type": "error",
     "traceback": [
      "\u001b[1;31m---------------------------------------------------------------------------\u001b[0m",
      "\u001b[1;31mTypeError\u001b[0m                                 Traceback (most recent call last)",
      "\u001b[1;32m<ipython-input-29-81a4f7bc8c36>\u001b[0m in \u001b[0;36m<module>\u001b[1;34m\u001b[0m\n\u001b[1;32m----> 1\u001b[1;33m \u001b[0mnow2\u001b[0m\u001b[1;33m-\u001b[0m\u001b[0mnow\u001b[0m\u001b[1;33m\u001b[0m\u001b[1;33m\u001b[0m\u001b[0m\n\u001b[0m",
      "\u001b[1;31mTypeError\u001b[0m: unsupported operand type(s) for -: 'datetime.time' and 'datetime.time'"
     ]
    }
   ],
   "source": [
    "now2-now"
   ]
  },
  {
   "cell_type": "code",
   "execution_count": 3,
   "metadata": {},
   "outputs": [],
   "source": [
    "disk_engine = create_engine('sqlite:///T_wait-3_delay-5.db')\n",
    "TT = pd.read_sql_query('SELECT *' 'FROM data' , disk_engine)"
   ]
  },
  {
   "cell_type": "code",
   "execution_count": 4,
   "metadata": {},
   "outputs": [
    {
     "data": {
      "text/plain": [
       "(39983, 11)"
      ]
     },
     "execution_count": 4,
     "metadata": {},
     "output_type": "execute_result"
    }
   ],
   "source": [
    "TT.shape"
   ]
  },
  {
   "cell_type": "code",
   "execution_count": 14,
   "metadata": {},
   "outputs": [],
   "source": [
    "disk_engine = create_engine('sqlite:///T_wait-3_delay-5_v2.db')\n",
    "T = pd.read_sql_query('SELECT *' 'FROM data' , disk_engine)"
   ]
  },
  {
   "cell_type": "code",
   "execution_count": 17,
   "metadata": {},
   "outputs": [
    {
     "data": {
      "text/plain": [
       "348888    101\n",
       "330826     35\n",
       "279563     24\n",
       "298779     13\n",
       "148795     11\n",
       "278545      7\n",
       "253002      7\n",
       "281191      7\n",
       "379463      5\n",
       "148200      4\n",
       "309957      3\n",
       "337896      2\n",
       "344719      2\n",
       "197460      2\n",
       "350249      2\n",
       "321321      2\n",
       "374853      2\n",
       "298527      1\n",
       "249519      1\n",
       "353331      1\n",
       "Name: r4, dtype: int64"
      ]
     },
     "execution_count": 17,
     "metadata": {},
     "output_type": "execute_result"
    }
   ],
   "source": [
    "T['r4'].value_counts()"
   ]
  },
  {
   "cell_type": "code",
   "execution_count": null,
   "metadata": {},
   "outputs": [],
   "source": []
  }
 ],
 "metadata": {
  "kernelspec": {
   "display_name": "Python 3",
   "language": "python",
   "name": "python3"
  },
  "language_info": {
   "codemirror_mode": {
    "name": "ipython",
    "version": 3
   },
   "file_extension": ".py",
   "mimetype": "text/x-python",
   "name": "python",
   "nbconvert_exporter": "python",
   "pygments_lexer": "ipython3",
   "version": "3.7.8"
  }
 },
 "nbformat": 4,
 "nbformat_minor": 4
}
