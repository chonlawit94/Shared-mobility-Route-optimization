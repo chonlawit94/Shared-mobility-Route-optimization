{
 "cells": [
  {
   "cell_type": "code",
   "execution_count": 134,
   "metadata": {},
   "outputs": [],
   "source": [
    "'''Solving an Interger Linear Programming using Google OR-TOOLS with Python wrapper of GUROBI'''\n",
    "\n",
    "import numpy as np\n",
    "import pandas as pd\n",
    "from sqlalchemy import create_engine\n",
    "import networkx as nx\n",
    "\n",
    "# import data\n",
    "def rtv_data_prep(trip_size,fleet_size,seed_yes,disk_engine):\n",
    "    T = pd.read_sql_query('SELECT *' 'FROM data' , disk_engine)\n",
    "    T = T.loc[T['size']<=trip_size]\n",
    "#import requests and vehicle locations\n",
    "    man_veh = pd.read_csv('Manhattan_dropoff_14_80000-80030.csv',index_col='index')\n",
    "    seed = [99999,22842,42034,73027,38470,23843,59173,38533,10238,83799]\n",
    "    if seed_yes>0:\n",
    "        seed_value = seed[seed_yes-1]\n",
    "        man_veh_50 = man_veh.sample(frac=fleet_size,random_state=seed_value)\n",
    "        T = T.loc[T['veh_index'].isin(man_veh_50.index)]\n",
    "    return(T)\n"
   ]
  },
  {
   "cell_type": "code",
   "execution_count": 144,
   "metadata": {},
   "outputs": [],
   "source": [
    "# Prepare data\n",
    "def assign_data_prep(T):\n",
    "    veh_rtv_filtered = T['veh_index'].unique().tolist()\n",
    "    trip_rtv_filtered_str = T['request_index'].unique().tolist()\n",
    "    trip_rtv_filtered = [int(x) for x in trip_rtv_filtered_str]\n",
    "    unique_values_req =  pd.unique(T.loc[:,['r1','r2','r3','r4']].values.ravel()).tolist()\n",
    "    unique_values_req = [int(x) for x in unique_values_req if str(x) != 'nan']\n",
    "    unique_values_req.sort()\n",
    "    num_vehicles = len(veh_rtv_filtered) #vehicle\n",
    "    return(veh_rtv_filtered,trip_rtv_filtered_str,trip_rtv_filtered,unique_values_req,num_vehicles)"
   ]
  },
  {
   "cell_type": "code",
   "execution_count": 145,
   "metadata": {},
   "outputs": [],
   "source": [
    "# Create graph of RTV-graph\n",
    "def create_rtv_graph(unique_values_req,trip_rtv_filtered_str,T):\n",
    "    RT_graph = nx.MultiGraph()\n",
    "    for req in unique_values_req:\n",
    "#     index_req = unique_values_req.index(req)\n",
    "        RT_graph.add_node(req)\n",
    "    for trip in trip_rtv_filtered_str:\n",
    "#     index_trip = trip_rtv_filtered_str.index(trip)\n",
    "        RT_graph.add_node(trip)\n",
    "        trip_request_link = pd.unique(T.loc[T['request_index']==trip,['r1','r2','r3','r4']].values.ravel()).tolist()\n",
    "        for trip_req in trip_request_link:\n",
    "            if str(trip_req)!= 'nan':\n",
    "#             index_req = unique_values_req.index(trip_req)\n",
    "                RT_graph.add_edge(trip_req,trip)\n",
    "    return(RT_graph)"
   ]
  },
  {
   "cell_type": "code",
   "execution_count": 146,
   "metadata": {},
   "outputs": [],
   "source": [
    "# Create cost matrix (delay) of vehicle and trips\n",
    "def create_cost_matrix(num_vehicles,trip_rtv_filtered_str,T,penalty_constant):\n",
    "    cost = np.empty((0,num_vehicles+1))\n",
    "    for trip in trip_rtv_filtered_str:\n",
    "        cost_sub = []\n",
    "        for vehicle in veh_rtv_filtered:\n",
    "            vehicle_trips = T.loc[T['veh_index']==vehicle]\n",
    "            if trip in vehicle_trips['request_index'].values:\n",
    "                delay = vehicle_trips.loc[vehicle_trips['request_index']==trip].delay.values[0]\n",
    "            else:\n",
    "                delay = 0\n",
    "            cost_sub.append(delay)\n",
    "        #add trip cost of the dummy vehicle in the last column\n",
    "        cost_sub.append(0)\n",
    "\n",
    "    #     cost.append(cost_sub)\n",
    "        cost = np.append(cost,[cost_sub],axis=0)\n",
    "\n",
    "    #Add cost of rejecting request\n",
    "    cost_reject = []\n",
    "    for veh in veh_rtv_filtered:\n",
    "        cost_reject.append(0)\n",
    "    cost_reject.append(penalty_constant)\n",
    "    for request in unique_values_req:\n",
    "        cost = np.append(cost,[cost_reject],axis=0)\n",
    "    return(cost)"
   ]
  },
  {
   "cell_type": "code",
   "execution_count": 149,
   "metadata": {},
   "outputs": [],
   "source": [
    "# Initiate OR-TOOLS\n",
    "from ortools.linear_solver import pywraplp\n",
    "# Create the mip solver with gurobi\n",
    "def create_solver():\n",
    "    solver = pywraplp.Solver('SolveIntegerProblem',\n",
    "                               pywraplp.Solver.GUROBI_MIXED_INTEGER_PROGRAMMING)\n",
    "    return(solver)"
   ]
  },
  {
   "cell_type": "code",
   "execution_count": 150,
   "metadata": {},
   "outputs": [],
   "source": [
    "# Create cost matrix using variables of the solver\n",
    "def create_x_matrix(trip_rtv_filtered,cost,solver):    \n",
    "    count_obj = 0\n",
    "    num_trips = len(trip_rtv_filtered) #trip\n",
    "    x = np.empty((cost.shape[0],cost.shape[1]),dtype=object)\n",
    "    for i in range(cost.shape[0]):\n",
    "        for j in range(cost.shape[1]):\n",
    "            if cost[i,j]>0:\n",
    "                x[i,j] = solver.IntVar(0, 1, '')\n",
    "            else:\n",
    "                x[i,j] = 0\n",
    "    return(x)"
   ]
  },
  {
   "cell_type": "code",
   "execution_count": 148,
   "metadata": {},
   "outputs": [],
   "source": [
    "# Create request matrix that identify the combinations of requests that form each trip\n",
    "def create_req_matrix(unique_values_req,num_trips,RT_graph,trip_rtv_filtered_str,num_vehicles,cost,x):    \n",
    "    num_req = len(unique_values_req)\n",
    "    r = np.empty((num_req,num_trips+num_req),dtype=object)\n",
    "    for i in range(num_req):\n",
    "        trip_index_all = []\n",
    "        #get all edges connecting to a request and append to a list\n",
    "        for edge in RT_graph.edges(unique_values_req[i]):\n",
    "            trip_index = trip_rtv_filtered_str.index(edge[1])\n",
    "            trip_index_all.append(trip_index)\n",
    "        for j in range(num_trips):\n",
    "            if j in trip_index_all:\n",
    "                trip_req = []\n",
    "                for n in range(num_vehicles+1):\n",
    "                    if cost[j,n]>0:\n",
    "                        trip_req.append(n)\n",
    "                r[i, j] = sum([x[j, k] for k in trip_req])\n",
    "            else:\n",
    "                r[i, j] = 0\n",
    "    for i in range(num_req):\n",
    "        for j in range(num_req):\n",
    "            if i==j:\n",
    "                r[i,num_trips+j] = x[num_trips+i, num_vehicles] \n",
    "            else:\n",
    "                r[i,num_trips+j] = 0\n",
    "    return(r)"
   ]
  },
  {
   "cell_type": "code",
   "execution_count": 151,
   "metadata": {},
   "outputs": [],
   "source": [
    "# Define the constraints\n",
    "def define_constraints(x,num_req,num_trips,num_vehicles,penalty_constant,cost,unique_values_req,solver):\n",
    "    # Each trip is assigned to at most 1 vehicle. (exclude last trip)\n",
    "    # for i in range(num_trips):\n",
    "    #     solver.Add(solver.Sum([x[i, j] for j in range(num_vehicles+1)]) <= 1)\n",
    "    for i in range(x.shape[0]):\n",
    "        solver.Add(solver.Sum([x[i, j] for j in range(x.shape[1])]) <= 1)\n",
    "\n",
    "    # Each vehicle is assigned to at most one trip. (exclude last trip)\n",
    "    for j in range(x.shape[1]-1):\n",
    "        solver.Add(solver.Sum([x[i, j] for i in range(x.shape[0])]) <= 1)\n",
    "\n",
    "    # Each request is assigned to exactly 1 trip (including rejected trip).\n",
    "    for i in range(num_req):\n",
    "        solver.Add(solver.Sum([r[i, j] for j in range(r.shape[1])]) == 1)\n",
    "\n",
    "    objective_terms = []\n",
    "    for i in range(num_trips):\n",
    "        for j in range(num_vehicles):\n",
    "            if cost[i,j]>0 and cost[i,j]<penalty_constant:\n",
    "                objective_terms.append(cost[i,j] * x[i, j])\n",
    "    #add cost of rejection \n",
    "    for i in range(len(unique_values_req)):\n",
    "        objective_terms.append(cost[num_trips+i][num_vehicles] * x[num_trips+i,num_vehicles])\n",
    "    return(objective_terms)"
   ]
  },
  {
   "cell_type": "code",
   "execution_count": 152,
   "metadata": {},
   "outputs": [],
   "source": [
    "# Solve the interger programming\n",
    "def solve_mip(objective_terms,solver):\n",
    "    solver.Minimize(solver.Sum(objective_terms))\n",
    "    status = solver.Solve()\n",
    "    return(status)"
   ]
  },
  {
   "cell_type": "code",
   "execution_count": 153,
   "metadata": {},
   "outputs": [],
   "source": [
    "def print_solution(seed_no,solver,Assignment_ILP):\n",
    "    if status == pywraplp.Solver.OPTIMAL or status == pywraplp.Solver.FEASIBLE:\n",
    "        print('Total Delay = ', solver.Objective().Value(),' Seed no.= ',seed_no, '\\n')\n",
    "        for i in range(num_trips + num_req):\n",
    "            for j in range(num_vehicles):\n",
    "                if not isinstance(x[i, j],int):\n",
    "                    if x[i,j].solution_value() > 0.2:\n",
    "#                         print('Trip %d assigned to vehicle %d.  Delay = %d' %\n",
    "#                               (i, j, cost[i][j]))\n",
    "                        Assignment_ILP = Assignment_ILP.append({'trip':trip_rtv_filtered_str[i],'vehicle':veh_rtv_filtered[j],'delay':cost[i][j],'solution_val':x[i, j].solution_value(),'seed_no':seed_no},ignore_index=True)\n",
    "            if not isinstance(x[i, j+1],int) and x[i,j+1].solution_value() > 0.2:\n",
    "#                 print('Trip %d assigned to vehicle %d.  Delay = %d' %\n",
    "#                               (i, j+1, cost[i][j+1]))\n",
    "                Assignment_ILP = Assignment_ILP.append({'trip':unique_values_req[i-num_trips],'vehicle':'rejected','delay':cost[i][j+1],'solution_val':x[i, j+1].solution_value(),'seed_no':seed_no},ignore_index=True)\n",
    "    return(Assignment_ILP)"
   ]
  },
  {
   "cell_type": "code",
   "execution_count": 154,
   "metadata": {},
   "outputs": [],
   "source": [
    "# combine all functions\n",
    "def execute_all(trip_size,fleet_size,disk_engine):\n",
    "    Assignment_ILP = pd.DataFrame()\n",
    "    if fleet_size < 1:\n",
    "        for i in range(10):\n",
    "            T = rtv_data_prep(trip_size,fleet_size,i+1,disk_engine)\n",
    "            veh_rtv_filtered,trip_rtv_filtered_str,trip_rtv_filtered,unique_values_req,num_vehicles = assign_data_prep(T)\n",
    "            RT_graph = create_rtv_graph(unique_values_req,trip_rtv_filtered_str,T)\n",
    "            cost = create_cost_matrix(num_vehicles,trip_rtv_filtered_str,T,penalty_constant)\n",
    "            solver = create_solver()\n",
    "            x = create_x_matrix(trip_rtv_filtered,cost,solver)\n",
    "            r = create_req_matrix(unique_values_req,num_trips,RT_graph,trip_rtv_filtered_str,num_vehicles,cost,x)\n",
    "            objective_terms = define_constraints(x,num_req,num_trips,num_vehicles,penalty_constant,cost,unique_values_req,solver)\n",
    "            status = solve_mip(objective_terms,solver)\n",
    "            print_solution(seed_no,solver,Assignment_ILP)\n",
    "    return(Assignment_ILP)"
   ]
  },
  {
   "cell_type": "code",
   "execution_count": null,
   "metadata": {},
   "outputs": [],
   "source": [
    "# Execute all functions\n",
    "trip_size = 1 #1-4\n",
    "fleet_size = 0.5 #0-1\n",
    "disk_engine = create_engine('sqlite:///T_wait-5_delay-10_head20.db')\n",
    "penalty_constant = 10000000\n",
    "result_ilp_df = execute_all(trip_size,fleet_size,disk_engine)"
   ]
  },
  {
   "cell_type": "code",
   "execution_count": 100,
   "metadata": {},
   "outputs": [],
   "source": [
    "Assignment_ILP.to_csv('ass_allveh_wait-5_delay-10_capa-1_veh-50-seed3.csv')"
   ]
  }
 ],
 "metadata": {
  "kernelspec": {
   "display_name": "Python 3",
   "language": "python",
   "name": "python3"
  },
  "language_info": {
   "codemirror_mode": {
    "name": "ipython",
    "version": 3
   },
   "file_extension": ".py",
   "mimetype": "text/x-python",
   "name": "python",
   "nbconvert_exporter": "python",
   "pygments_lexer": "ipython3",
   "version": "3.7.8"
  }
 },
 "nbformat": 4,
 "nbformat_minor": 4
}
